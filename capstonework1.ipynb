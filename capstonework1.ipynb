{
 "cells": [
  {
   "cell_type": "code",
   "execution_count": 1,
   "metadata": {},
   "outputs": [],
   "source": [
    "import os\n",
    "import string\n",
    "import glob\n",
    "import unicodedata\n",
    "import math\n",
    "import torch\n",
    "import torch.nn as nn\n",
    "import random\n",
    "import time\n",
    "import matplotlib.pyplot as plt\n",
    "from io import open\n"
   ]
  },
  {
   "cell_type": "code",
   "execution_count": 2,
   "metadata": {},
   "outputs": [
    {
     "name": "stdout",
     "output_type": "stream",
     "text": [
      "n_letter: 57\n"
     ]
    }
   ],
   "source": [
    "# Get all common characters including letters and common punctuation\n",
    "all_letters = string.ascii_letters + \" .,;'\"\n",
    "\n",
    "# Get the number of common characters\n",
    "n_letters = len(all_letters)\n",
    "\n",
    "print(\"n_letter:\", n_letters)"
   ]
  },
  {
   "cell_type": "code",
   "execution_count": 3,
   "metadata": {},
   "outputs": [],
   "source": [
    "# We'll ignore the encoding issue for now\n",
    "# We think that this function serves to remove accent marks in some languages\n",
    "def unicodeToAscii(s):\n",
    "    return ''.join(\n",
    "        c for c in unicodedata.normalize('NFD', s)\n",
    "        if unicodedata.category(c) != 'Mn'\n",
    "        and c in all_letters\n",
    "    )"
   ]
  },
  {
   "cell_type": "code",
   "execution_count": 4,
   "metadata": {},
   "outputs": [
    {
     "name": "stdout",
     "output_type": "stream",
     "text": [
      "aaaaaaceeeeiiiinooooouuuuysy\n"
     ]
    }
   ],
   "source": [
    "s= \"àáâãäåæçèéêëìíîïðñòóõôöøùúûüýþšÿœ\"\n",
    "a = unicodeToAscii(s)\n",
    "print(a)"
   ]
  },
  {
   "cell_type": "code",
   "execution_count": 5,
   "metadata": {},
   "outputs": [],
   "source": [
    "data_path = \"./data/data/names/\"\n",
    "\n",
    "def readLines(filename):\n",
    "    \"\"\"Read each line from the file and load it into memory to form a list\"\"\"\n",
    "    # Open the specified file and read all the contents, use strip() to remove whitespace on both sides, then slice with '\\n\n",
    "    lines = open(filename, encoding='utf-8').read().strip().split('\\n')\n",
    "    # Ascii conversion for each name in the list of lines to normalize it. Finally, a list of names is returned\n",
    "    return [unicodeToAscii(line) for line in lines]"
   ]
  },
  {
   "cell_type": "code",
   "execution_count": 6,
   "metadata": {},
   "outputs": [
    {
     "name": "stdout",
     "output_type": "stream",
     "text": [
      "['Ang', 'AuYong', 'Bai', 'Ban', 'Bao', 'Bei', 'Bian', 'Bui', 'Cai', 'Cao', 'Cen', 'Chai', 'Chaim', 'Chan', 'Chang', 'Chao', 'Che', 'Chen', 'Cheng', 'Cheung', 'Chew', 'Chieu', 'Chin', 'Chong', 'Chou', 'Chu', 'Cui', 'Dai', 'Deng', 'Ding', 'Dong', 'Dou', 'Duan', 'Eng', 'Fan', 'Fei', 'Feng', 'Foong', 'Fung', 'Gan', 'Gauk', 'Geng', 'Gim', 'Gok', 'Gong', 'Guan', 'Guang', 'Guo', 'Gwock', 'Han', 'Hang', 'Hao', 'Hew', 'Hiu', 'Hong', 'Hor', 'Hsiao', 'Hua', 'Huan', 'Huang', 'Hui', 'Huie', 'Huo', 'Jia', 'Jiang', 'Jin', 'Jing', 'Joe', 'Kang', 'Kau', 'Khoo', 'Khu', 'Kong', 'Koo', 'Kwan', 'Kwei', 'Kwong', 'Lai', 'Lam', 'Lang', 'Lau', 'Law', 'Lew', 'Lian', 'Liao', 'Lim', 'Lin', 'Ling', 'Liu', 'Loh', 'Long', 'Loong', 'Luo', 'Mah', 'Mai', 'Mak', 'Mao', 'Mar', 'Mei', 'Meng', 'Miao', 'Min', 'Ming', 'Moy', 'Mui', 'Nie', 'Niu', 'OuYang', 'OwYang', 'Pan', 'Pang', 'Pei', 'Peng', 'Ping', 'Qian', 'Qin', 'Qiu', 'Quan', 'Que', 'Ran', 'Rao', 'Rong', 'Ruan', 'Sam', 'Seah', 'See ', 'Seow', 'Seto', 'Sha', 'Shan', 'Shang', 'Shao', 'Shaw', 'She', 'Shen', 'Sheng', 'Shi', 'Shu', 'Shuai', 'Shui', 'Shum', 'Siew', 'Siu', 'Song', 'Sum', 'Sun', 'Sze ', 'Tan', 'Tang', 'Tao', 'Teng', 'Teoh', 'Thean', 'Thian', 'Thien', 'Tian', 'Tong', 'Tow', 'Tsang', 'Tse', 'Tsen', 'Tso', 'Tze', 'Wan', 'Wang', 'Wei', 'Wen', 'Weng', 'Won', 'Wong', 'Woo', 'Xiang', 'Xiao', 'Xie', 'Xing', 'Xue', 'Xun', 'Yan', 'Yang', 'Yao', 'Yap', 'Yau', 'Yee', 'Yep', 'Yim', 'Yin', 'Ying', 'Yong', 'You', 'Yuan', 'Zang', 'Zeng', 'Zha', 'Zhan', 'Zhang', 'Zhao', 'Zhen', 'Zheng', 'Zhong', 'Zhou', 'Zhu', 'Zhuo', 'Zong', 'Zou', 'Bing', 'Chi', 'Chu', 'Cong', 'Cuan', 'Dan', 'Fei', 'Feng', 'Gai', 'Gao', 'Gou', 'Guan', 'Gui', 'Guo', 'Hong', 'Hou', 'Huan', 'Jian', 'Jiao', 'Jin', 'Jiu', 'Juan', 'Jue', 'Kan', 'Kuai', 'Kuang', 'Kui', 'Lao', 'Liang', 'Lu', 'Luo', 'Man', 'Nao', 'Pian', 'Qiao', 'Qing', 'Qiu', 'Rang', 'Rui', 'She', 'Shi', 'Shuo', 'Sui', 'Tai', 'Wan', 'Wei', 'Xian', 'Xie', 'Xin', 'Xing', 'Xiong', 'Xuan', 'Yan', 'Yin', 'Ying', 'Yuan', 'Yue', 'Yun', 'Zha', 'Zhai', 'Zhang', 'Zhi', 'Zhuan', 'Zhui']\n"
     ]
    }
   ],
   "source": [
    "# filename is a specific file in the dataset, we choose Chinese.txt here\n",
    "filename = data_path + \"Chinese.txt\"\n",
    "lines = readLines(filename)\n",
    "print(lines)"
   ]
  },
  {
   "cell_type": "code",
   "execution_count": 7,
   "metadata": {},
   "outputs": [
    {
     "name": "stdout",
     "output_type": "stream",
     "text": [
      "n_categories: 18\n",
      "['Abandonato', 'Abatangelo', 'Abatantuono', 'Abate', 'Abategiovanni']\n"
     ]
    }
   ],
   "source": [
    "# Build category_lines like this: {\"English\":[\"Lily\", \"Susan\", \"Kobe\"], \"Chinese\":[\"Zhang San\", \"Xiao Ming\"]}\n",
    "category_lines = {}\n",
    "\n",
    "# all_categories ： [\"English\",...,\"Chinese\"]\n",
    "all_categories = []\n",
    "\n",
    "# Read txt file under specified path, use glob, regular expressions can be used in path\n",
    "for filename in glob.glob(data_path + '*.txt'):\n",
    "    # Get the file name of each file, which is the corresponding name category\n",
    "    category = os.path.splitext(os.path.basename(filename))[0]\n",
    "    # Load them one by one into the all_categories list\n",
    "    all_categories.append(category)\n",
    "    # Then read the contents of each file to form a list of names\n",
    "    lines = readLines(filename)\n",
    "    # Write the list of names to the category_lines dictionary according to the corresponding category\n",
    "    category_lines[category] = lines\n",
    "\n",
    "\n",
    "# View category totals\n",
    "n_categories = len(all_categories)\n",
    "print(\"n_categories:\", n_categories)\n",
    "\n",
    "# Check out some of them at random\n",
    "print(category_lines['Italian'][:5])"
   ]
  },
  {
   "cell_type": "code",
   "execution_count": 8,
   "metadata": {},
   "outputs": [
    {
     "data": {
      "text/plain": [
       "['Abandonato', 'Abatangelo', 'Abatantuono', 'Abate', 'Abategiovanni']"
      ]
     },
     "execution_count": 8,
     "metadata": {},
     "output_type": "execute_result"
    }
   ],
   "source": [
    "n_categories: 18\n",
    "['Abandonato', 'Abatangelo', 'Abatantuono', 'Abate', 'Abategiovanni']"
   ]
  },
  {
   "cell_type": "code",
   "execution_count": 9,
   "metadata": {},
   "outputs": [],
   "source": [
    "#  Convert a string (word granularity) into a tensor representation, get tensor ...\n",
    "def lineToTensor(line):\n",
    "    \"\"\"Converts a person's name into the corresponding onehot tensor representation, the argument line is the input person's name.\"\"\"\n",
    "    # First initialize a 0 tensor, its shape (len(line), 1, n_letters) \n",
    "    # Each letter in the name is represented by a 1 x n_letters tensor.\n",
    "    tensor = torch.zeros(len(line), 1, n_letters)\n",
    "    # Iterate through each character index and character in this person's name\n",
    "    for li, letter in enumerate(line):\n",
    "        # Use the string method find to find the index of each character in all_letters\n",
    "        # It is also the index position of 1 in the onehot tensor we generate\n",
    "        tensor[li][0][all_letters.find(letter)] = 1\n",
    "    \n",
    "    return tensor"
   ]
  },
  {
   "cell_type": "code",
   "execution_count": 10,
   "metadata": {},
   "outputs": [
    {
     "name": "stdout",
     "output_type": "stream",
     "text": [
      "line_tensot: tensor([[[0., 0., 0., 0., 0., 0., 0., 0., 0., 0., 0., 0., 0., 0., 0., 0., 0.,\n",
      "          0., 0., 0., 0., 0., 0., 0., 0., 0., 0., 0., 0., 0., 0., 0., 0., 0.,\n",
      "          0., 0., 0., 0., 0., 0., 0., 0., 1., 0., 0., 0., 0., 0., 0., 0., 0.,\n",
      "          0., 0., 0., 0., 0., 0.]],\n",
      "\n",
      "        [[0., 0., 0., 0., 0., 0., 0., 0., 1., 0., 0., 0., 0., 0., 0., 0., 0.,\n",
      "          0., 0., 0., 0., 0., 0., 0., 0., 0., 0., 0., 0., 0., 0., 0., 0., 0.,\n",
      "          0., 0., 0., 0., 0., 0., 0., 0., 0., 0., 0., 0., 0., 0., 0., 0., 0.,\n",
      "          0., 0., 0., 0., 0., 0.]],\n",
      "\n",
      "        [[0., 0., 0., 0., 0., 0., 0., 0., 0., 0., 0., 0., 0., 0., 0., 0., 0.,\n",
      "          0., 0., 0., 1., 0., 0., 0., 0., 0., 0., 0., 0., 0., 0., 0., 0., 0.,\n",
      "          0., 0., 0., 0., 0., 0., 0., 0., 0., 0., 0., 0., 0., 0., 0., 0., 0.,\n",
      "          0., 0., 0., 0., 0., 0.]]])\n"
     ]
    }
   ],
   "source": [
    "line = \"Qiu\"\n",
    "line_tensor = lineToTensor(line)\n",
    "print(\"line_tensot:\", line_tensor)"
   ]
  },
  {
   "cell_type": "code",
   "execution_count": 11,
   "metadata": {},
   "outputs": [],
   "source": [
    "# Use nn.RNN to build the completed traditional RNN use class\n",
    "\n",
    "class RNN(nn.Module):\n",
    "    def __init__(self, input_size, hidden_size, output_size, num_layers=1):\n",
    "        \"\"\"The initialization function has 4 parameters, which represent the last dimension of RNN input, the last dimension of RNN hidden layer, and the number of RNN layers respectively.\"\"\"\n",
    "        super(RNN, self).__init__()       \n",
    "        # Pass hidden_size and num_layers into it\n",
    "        self.hidden_size = hidden_size\n",
    "        self.num_layers = num_layers  \n",
    "\n",
    "        # RNN, with three parameters input_size, hidden_size, num_layers\n",
    "        self.rnn = nn.RNN(input_size, hidden_size, num_layers)\n",
    "        # Instantiate nn.Linear, the linear layer used to transform the output dimension of nn.RNN into the specified output dimension\n",
    "        self.linear = nn.Linear(hidden_size, output_size)\n",
    "        # Instantiate the predefined Softmax layer in nn, used to obtain the category results from the output layer\n",
    "        self.softmax = nn.LogSoftmax(dim=-1)\n",
    "\n",
    "\n",
    "    def forward(self, input, hidden):\n",
    "        \"\"\"Completing the main logic in a traditional RNN, the input parameter input represents the input tensor, which has the shape of 1 x n_letters\n",
    "           hidden represents the hidden tensor of the RNN, which has the shape self.num_layers x 1 x self.hidden_size\"\"\"\n",
    "        # Because the predefined nn.RNN requires that the input dimension must be a three-dimensional tensor, so here we use unsqueeze(0) to extend a dimension\n",
    "        input = input.unsqueeze(0)\n",
    "        # input and hidden into the instantiated object of traditional RNN if num_layers=1, rr constant equals hn\n",
    "        rr, hn = self.rnn(input, hidden)\n",
    "        # Return the results obtained from the RNN by linear transformation and softmax, and also return hn as input to the subsequent RNN\n",
    "        return self.softmax(self.linear(rr)), hn\n",
    "\n",
    "\n",
    "    def initHidden(self):\n",
    "        \"\"\"Initialize the hidden tensor\"\"\"\n",
    "        # Initialize a (self.num_layers, 1, self.hidden_size) shaped 0 tensor     \n",
    "        return torch.zeros(self.num_layers, 1, self.hidden_size)  "
   ]
  },
  {
   "cell_type": "code",
   "execution_count": 12,
   "metadata": {},
   "outputs": [
    {
     "data": {
      "text/plain": [
       "tensor([[1],\n",
       "        [2],\n",
       "        [3],\n",
       "        [4]])"
      ]
     },
     "execution_count": 12,
     "metadata": {},
     "output_type": "execute_result"
    }
   ],
   "source": [
    "x = torch.tensor([1, 2, 3, 4])\n",
    "torch.unsqueeze(x, 0)\n",
    "torch.tensor([[ 1,  2,  3,  4]])\n",
    "torch.unsqueeze(x, 1)\n",
    "torch.tensor([[ 1],\n",
    "        [ 2],\n",
    "        [ 3],\n",
    "        [ 4]])"
   ]
  },
  {
   "cell_type": "code",
   "execution_count": 13,
   "metadata": {},
   "outputs": [],
   "source": [
    "# Use nn.LSTM to build the completed LSTM usage class\n",
    "\n",
    "class LSTM(nn.Module):\n",
    "    def __init__(self, input_size, hidden_size, output_size, num_layers=1):\n",
    "        \"\"\"The parameters of the initialization function are the same as those of the traditional RNN.\"\"\"\n",
    "        super(LSTM, self).__init__()\n",
    "        # Pass hidden_size and num_layers into it\n",
    "        self.hidden_size = hidden_size\n",
    "        self.num_layers = num_layers\n",
    "\n",
    "        # Instantiate the predefined nn.LSTM\n",
    "        self.lstm = nn.LSTM(input_size, hidden_size, num_layers)\n",
    "        # Instantiate nn.Linear, the linear layer used to transform the output dimension of nn.RNN into the specified output dimension\n",
    "        self.linear = nn.Linear(hidden_size, output_size)\n",
    "        # Instantiate the predefined Softmax layer in nn, used to obtain the category results from the output layer\n",
    "        self.softmax = nn.LogSoftmax(dim=-1)\n",
    "\n",
    "\n",
    "    def forward(self, input, hidden, c):\n",
    "        \"\"\"An extra parameter c in the main logic function, which is the cell state tensor in the LSTM\"\"\"\n",
    "        # Use unsqueeze(0) to extend a dimension\n",
    "        input = input.unsqueeze(0)\n",
    "         # Pass input, hidden and initialized c into lstm\n",
    "        rr, (hn, c) = self.lstm(input, (hidden, c))\n",
    "        # Finally return the processed rr, hn, c\n",
    "        return self.softmax(self.linear(rr)), hn, c\n",
    "\n",
    "    def initHiddenAndC(self):  \n",
    "        \"\"\"The initialization function not only initializes hidden but also initializes the cell state c, which has the same shape.\"\"\"\n",
    "        c = hidden = torch.zeros(self.num_layers, 1, self.hidden_size)\n",
    "        return hidden, c"
   ]
  },
  {
   "cell_type": "code",
   "execution_count": 14,
   "metadata": {},
   "outputs": [],
   "source": [
    "# Use nn.GRU to build a traditional RNN using classes\n",
    "# GRU has the same external form as the traditional RNN, both pass only the hidden layer tensor, so only the names of the predefined layers need to be changed\n",
    "\n",
    "class GRU(nn.Module):\n",
    "    def __init__(self, input_size, hidden_size, output_size, num_layers=1):\n",
    "        super(GRU, self).__init__()\n",
    "        self.hidden_size = hidden_size\n",
    "        self.num_layers = num_layers\n",
    "        \n",
    "        # GRU, with three parameters input_size, hidden_size, num_layers\n",
    "        self.gru = nn.GRU(input_size, hidden_size, num_layers)\n",
    "        self.linear = nn.Linear(hidden_size, output_size)\n",
    "        self.softmax = nn.LogSoftmax(dim=-1)\n",
    "\n",
    "    def forward(self, input, hidden):\n",
    "        input = input.unsqueeze(0)\n",
    "        rr, hn = self.gru(input, hidden)\n",
    "        return self.softmax(self.linear(rr)), hn\n",
    "\n",
    "    def initHidden(self):\n",
    "        return torch.zeros(self.num_layers, 1, self.hidden_size)"
   ]
  },
  {
   "cell_type": "code",
   "execution_count": 15,
   "metadata": {},
   "outputs": [],
   "source": [
    "# Because of the onehot encoding, the dimension of the last dimension of the input tensor is n_letters\n",
    "input_size = n_letters\n",
    "\n",
    "# Define the size of the last dimension of the hidden layer\n",
    "n_hidden = 128\n",
    "\n",
    "# Output size is the total number of language categories n_categories\n",
    "output_size = n_categories\n",
    "# num_layer uses the default value, num_layers = 1"
   ]
  },
  {
   "cell_type": "code",
   "execution_count": 16,
   "metadata": {},
   "outputs": [],
   "source": [
    "# If we take a letter B as the first input to the RNN, it is converted to a tensor by lineToTensor\n",
    "# Because our lineToTensor output is a three-dimensional tensor, and the RNN class requires a two-dimensional tensor\n",
    "# So we need to use squeeze(0) to reduce the dimensionality by one\n",
    "input = lineToTensor('B').squeeze(0)\n",
    "\n",
    "# Initialize a 3D hidden layer 0 tensor, which is also the initial cell state tensor\n",
    "hidden = c = torch.zeros(1, 1, n_hidden)"
   ]
  },
  {
   "cell_type": "code",
   "execution_count": 17,
   "metadata": {},
   "outputs": [
    {
     "name": "stdout",
     "output_type": "stream",
     "text": [
      "rnn: tensor([[[-2.8479, -3.0319, -2.8716, -2.8824, -2.9023, -2.9043, -2.8385,\n",
      "          -2.8385, -2.8303, -2.7940, -2.9442, -2.9497, -2.8714, -2.9510,\n",
      "          -2.9176, -2.8447, -2.9065, -2.9276]]], grad_fn=<LogSoftmaxBackward0>)\n",
      "lstm: tensor([[[-2.8255, -2.9213, -2.8857, -2.9610, -2.9331, -2.9600, -2.8651,\n",
      "          -2.9269, -2.9058, -2.8480, -2.8371, -2.8466, -2.8532, -2.8579,\n",
      "          -2.8497, -2.9565, -2.9017, -2.9088]]], grad_fn=<LogSoftmaxBackward0>)\n",
      "gru: tensor([[[-2.9032, -2.8672, -2.9305, -2.9576, -2.9292, -2.9390, -2.9182,\n",
      "          -2.8892, -2.8072, -2.8154, -2.9166, -2.8609, -2.8514, -2.8841,\n",
      "          -2.8897, -2.9367, -2.8543, -2.8915]]], grad_fn=<LogSoftmaxBackward0>)\n"
     ]
    }
   ],
   "source": [
    "rnn = RNN(n_letters, n_hidden, n_categories)\n",
    "lstm = LSTM(n_letters, n_hidden, n_categories)\n",
    "gru = GRU(n_letters, n_hidden, n_categories)\n",
    "\n",
    "rnn_output, next_hidden = rnn(input, hidden)\n",
    "print(\"rnn:\", rnn_output)\n",
    "lstm_output, next_hidden, c = lstm(input, hidden, c)\n",
    "print(\"lstm:\", lstm_output)\n",
    "gru_output, next_hidden = gru(input, hidden)\n",
    "print(\"gru:\", gru_output)"
   ]
  },
  {
   "cell_type": "code",
   "execution_count": 18,
   "metadata": {},
   "outputs": [],
   "source": [
    "def categoryFromOutput(output):\n",
    "    \"\"\"Get the specified category from the output result, the parameter is the output tensor output\"\"\"\n",
    "    # Returns the largest value and index object from the output tensor, we mainly need this index here\n",
    "    top_n, top_i = output.topk(1)\n",
    "    # top_i object to retrieve the value of the index\n",
    "    category_i = top_i[0].item()\n",
    "    # Get the language category according to the index value, return the language category and index value\n",
    "    return all_categories[category_i], category_i"
   ]
  },
  {
   "cell_type": "code",
   "execution_count": 19,
   "metadata": {},
   "outputs": [
    {
     "data": {
      "text/plain": [
       "tensor([1., 2., 3., 4., 5.])"
      ]
     },
     "execution_count": 19,
     "metadata": {},
     "output_type": "execute_result"
    }
   ],
   "source": [
    "x = torch.arange(1., 6.)\n",
    "x"
   ]
  },
  {
   "cell_type": "code",
   "execution_count": 20,
   "metadata": {},
   "outputs": [
    {
     "data": {
      "text/plain": [
       "torch.return_types.topk(\n",
       "values=tensor([5., 4., 3.]),\n",
       "indices=tensor([4, 3, 2]))"
      ]
     },
     "execution_count": 20,
     "metadata": {},
     "output_type": "execute_result"
    }
   ],
   "source": [
    "torch.topk(x, 3)"
   ]
  },
  {
   "cell_type": "code",
   "execution_count": 21,
   "metadata": {},
   "outputs": [],
   "source": [
    "# Use the output of gru from the previous step as input to the function\n",
    "output = gru_output\n",
    "# tensor([[[-2.8042, -2.8894, -2.8355, -2.8951, -2.8682, -2.9502, -2.9056,\n",
    "#          -2.8963, -2.8671, -2.9109, -2.9425, -2.8390, -2.9229, -2.8081,\n",
    "#          -2.8800, -2.9561, -2.9205, -2.9546]]], grad_fn=<LogSoftmaxBackward>)"
   ]
  },
  {
   "cell_type": "code",
   "execution_count": 22,
   "metadata": {},
   "outputs": [
    {
     "name": "stdout",
     "output_type": "stream",
     "text": [
      "category: Irish\n",
      "category_i: 8\n"
     ]
    }
   ],
   "source": [
    "category, category_i = categoryFromOutput(output)\n",
    "print(\"category:\", category) \n",
    "print(\"category_i:\", category_i)"
   ]
  },
  {
   "cell_type": "code",
   "execution_count": 23,
   "metadata": {},
   "outputs": [],
   "source": [
    "def randomTrainingExample():\n",
    "    \"\"\"This function is used to generate training data randomly.\"\"\"\n",
    "    # First select a random category from all_categories using random's choice method\n",
    "    category = random.choice(all_categories)\n",
    "    # And then take the list of names corresponding to the category category through the category_lines dictionary\n",
    "    # and then take a random name from the list\n",
    "    line = random.choice(category_lines[category])\n",
    "    # Then wrap the index of this category in the list of all categories into a tensor, and get the category tensor category_tensor\n",
    "    category_tensor = torch.tensor([all_categories.index(category)], dtype=torch.long)\n",
    "    # Finally, the randomly selected name is transformed into a onehot tensor representation by the function lineToTensor\n",
    "    line_tensor = lineToTensor(line)\n",
    "    return category, line, category_tensor, line_tensor"
   ]
  },
  {
   "cell_type": "code",
   "execution_count": 24,
   "metadata": {},
   "outputs": [
    {
     "name": "stdout",
     "output_type": "stream",
     "text": [
      "category = German / line = Bohler / category_tensor = tensor([6])\n",
      "category = Dutch / line = Tunison / category_tensor = tensor([3])\n",
      "category = Arabic / line = Botros / category_tensor = tensor([0])\n",
      "category = Russian / line = Jigultsov / category_tensor = tensor([14])\n",
      "category = Chinese / line = Liao / category_tensor = tensor([1])\n",
      "category = Vietnamese / line = Thuy / category_tensor = tensor([17])\n",
      "category = Dutch / line = Rompaye / category_tensor = tensor([3])\n",
      "category = Greek / line = Chrysanthopoulos / category_tensor = tensor([7])\n",
      "category = Spanish / line = San nicolas / category_tensor = tensor([16])\n",
      "category = Irish / line = Flann / category_tensor = tensor([8])\n"
     ]
    }
   ],
   "source": [
    "# We took ten randomly to view the results\n",
    "for i in range(10):\n",
    "    category, line, category_tensor, line_tensor = randomTrainingExample()\n",
    "    print('category =', category, '/ line =', line, '/ category_tensor =', category_tensor)"
   ]
  },
  {
   "cell_type": "code",
   "execution_count": 25,
   "metadata": {},
   "outputs": [],
   "source": [
    "# NLLLoss, because the last layer of the RNN is nn.LogSoftmax, and the internal computational logic of the two can match exactly.  \n",
    "criterion = nn.NLLLoss()\n",
    "\n",
    "# Set the learning rate to 0.005\n",
    "learning_rate = 0.005 \n",
    "\n",
    "def trainRNN(category_tensor, line_tensor):\n",
    "    \"\"\"Defines the training function, its two parameters are the tensor representation of category_tensor category, which corresponds to the label of the training data,\n",
    "       line_tensor name tensor representation, which corresponds to the training data.\"\"\"\n",
    "    # In the function, the hidden tensor is first initialized by instantiating the object rnn\n",
    "    hidden = rnn.initHidden()\n",
    "\n",
    "    # Then normalize the gradient in the model structure to zero\n",
    "    rnn.zero_grad()\n",
    "\n",
    "    # The following training process starts, each character of the training data line_tensor is passed into rnn one by one, and the final result is obtained\n",
    "    for i in range(line_tensor.size()[0]):\n",
    "        output, hidden = rnn(line_tensor[i], hidden)\n",
    "\n",
    "    # Because our rnn object is instantiated by nn.RNN, the final output shape is a 3D tensor, in order to satisfy the category_tensor\n",
    "    # To compare and calculate the loss, we need to reduce the first dimension, here we use the squeeze() method\n",
    "    loss = criterion(output.squeeze(0), category_tensor)\n",
    "\n",
    "    # losses are back propagated\n",
    "    loss.backward()\n",
    "    # Update all parameters in the model\n",
    "    for p in rnn.parameters():\n",
    "        # Update the parameters by adding the tensor representation of the parameters and the gradient of the parameters multiplied by the learning rate\n",
    "        p.data.add_(-learning_rate, p.grad.data)\n",
    "    # Return the result and the value of the loss\n",
    "    return output, loss.item()"
   ]
  },
  {
   "cell_type": "code",
   "execution_count": 26,
   "metadata": {},
   "outputs": [
    {
     "data": {
      "text/plain": [
       "tensor([-0.0695, -0.0270,  1.1463, -0.4515])"
      ]
     },
     "execution_count": 26,
     "metadata": {},
     "output_type": "execute_result"
    }
   ],
   "source": [
    "a = torch.randn(4)\n",
    "a"
   ]
  },
  {
   "cell_type": "code",
   "execution_count": 27,
   "metadata": {},
   "outputs": [
    {
     "data": {
      "text/plain": [
       "tensor([[ 0.2351],\n",
       "        [-0.9780],\n",
       "        [-0.5588],\n",
       "        [-0.5163]])"
      ]
     },
     "execution_count": 27,
     "metadata": {},
     "output_type": "execute_result"
    }
   ],
   "source": [
    "b = torch.randn(4, 1)\n",
    "b"
   ]
  },
  {
   "cell_type": "code",
   "execution_count": 28,
   "metadata": {},
   "outputs": [
    {
     "data": {
      "text/plain": [
       "tensor([[  2.2817,   2.3242,   3.4975,   1.8998],\n",
       "        [ -9.8498,  -9.8073,  -8.6339, -10.2317],\n",
       "        [ -5.6576,  -5.6151,  -4.4418,  -6.0395],\n",
       "        [ -5.2325,  -5.1900,  -4.0167,  -5.6145]])"
      ]
     },
     "execution_count": 28,
     "metadata": {},
     "output_type": "execute_result"
    }
   ],
   "source": [
    "torch.add(a, b, alpha=10)"
   ]
  },
  {
   "cell_type": "code",
   "execution_count": 29,
   "metadata": {},
   "outputs": [],
   "source": [
    "# More cell states compared to conventional RNNc\n",
    "\n",
    "def trainLSTM(category_tensor, line_tensor):\n",
    "    hidden, c = lstm.initHiddenAndC()\n",
    "    lstm.zero_grad()\n",
    "    for i in range(line_tensor.size()[0]):\n",
    "        # Returns output, hidden and cell state c\n",
    "        output, hidden, c = lstm(line_tensor[i], hidden, c)\n",
    "    loss = criterion(output.squeeze(0), category_tensor)\n",
    "    loss.backward()\n",
    "\n",
    "    for p in lstm.parameters():\n",
    "        p.data.add_(-learning_rate, p.grad.data)\n",
    "    return output, loss.item()"
   ]
  },
  {
   "cell_type": "code",
   "execution_count": 30,
   "metadata": {},
   "outputs": [],
   "source": [
    "# Exactly the same as traditional RNN, but with the name changed to GRU\n",
    "\n",
    "def trainGRU(category_tensor, line_tensor):\n",
    "    hidden = gru.initHidden()\n",
    "    gru.zero_grad()\n",
    "    for i in range(line_tensor.size()[0]):\n",
    "        output, hidden= gru(line_tensor[i], hidden)\n",
    "    loss = criterion(output.squeeze(0), category_tensor)\n",
    "    loss.backward()\n",
    "\n",
    "    for p in gru.parameters():\n",
    "        p.data.add_(-learning_rate, p.grad.data)\n",
    "    return output, loss.item()"
   ]
  },
  {
   "cell_type": "code",
   "execution_count": 31,
   "metadata": {},
   "outputs": [],
   "source": [
    "def timeSince(since):\n",
    "    \"Get the training elapsed time for each print, since is the training start time\"\n",
    "    # Get the current time\n",
    "    now = time.time()\n",
    "    # Get the time difference, which is the training elapsed time\n",
    "    s = now - since\n",
    "    # Convert seconds to minutes, and round up\n",
    "    m = math.floor(s / 60)\n",
    "    # Calculate the number of seconds left to make up the 1 minute\n",
    "    s -= m * 60\n",
    "    # Returns the elapsed time for the specified format\n",
    "    return '%dm %ds' % (m, s)"
   ]
  },
  {
   "cell_type": "code",
   "execution_count": 32,
   "metadata": {},
   "outputs": [],
   "source": [
    "# Assume that the model training starts 10min before\n",
    "since = time.time() - 10*60"
   ]
  },
  {
   "cell_type": "code",
   "execution_count": 33,
   "metadata": {},
   "outputs": [
    {
     "name": "stdout",
     "output_type": "stream",
     "text": [
      "10m 0s\n"
     ]
    }
   ],
   "source": [
    "period = timeSince(since)\n",
    "print(period)"
   ]
  },
  {
   "cell_type": "code",
   "execution_count": 34,
   "metadata": {},
   "outputs": [],
   "source": [
    "# Set the number of training iterations\n",
    "n_iters = 1000\n",
    "# Set the print interval for the results\n",
    "print_every = 100\n",
    "# Set the mapping interval on the plotted loss curve\n",
    "plot_every = 10\n",
    "\n",
    "def train(train_type_fn):\n",
    "    \"\"\"The log printing function for the training process, with the parameter train_type_fn representing which model training function is selected, e.g. trainRNN\"\"\"\n",
    "    # Loss saving list for each mapping interval\n",
    "    all_losses = []\n",
    "    # Get training start time stamp\n",
    "    start = time.time()\n",
    "    # Set initial interval loss to 0\n",
    "    current_loss = 0\n",
    "    # Training iterations starting from 1, total n_iters \n",
    "    for iter in range(1, n_iters + 1):\n",
    "        # Get a random set of training data and the corresponding class by randomTrainingExample function\n",
    "        category, line, category_tensor, line_tensor = randomTrainingExample()\n",
    "        # Pass the training data and the tensor representation of the corresponding category into the train function\n",
    "        output, loss = train_type_fn(category_tensor, line_tensor)      \n",
    "        # Calculate the total loss in the mapping interval\n",
    "        current_loss += loss   \n",
    "        # If the number of iterations can divide the print interval\n",
    "        if iter % print_every == 0:\n",
    "            # Take the output on this iteration step and get the corresponding category and category index through categoryFromOutput function\n",
    "            guess, guess_i = categoryFromOutput(output)\n",
    "            # Then compare it with the real category category, if it is the same then put a check mark, otherwise put a cross mark.\n",
    "            correct = '✓' if guess == category else '✗ (%s)' % category\n",
    "            # Print the iteration step, the percentage of iteration steps, the current training time, the loss, the name of the predicted step, and whether it is correct                        \n",
    "            print('%d %d%% (%s) %.4f %s / %s %s' % (iter, iter / n_iters * 100, timeSince(start), loss, line, guess, correct))\n",
    "\n",
    "        # If the number of iterations is divisible by the mapping interval\n",
    "        if iter % plot_every == 0:\n",
    "            # will save the average loss in the interval to the all_losses list\n",
    "            all_losses.append(current_loss / plot_every)\n",
    "            # Interval loss reset to 0\n",
    "            current_loss = 0\n",
    "    # Returns the corresponding total loss list and training time\n",
    "    return all_losses, int(time.time() - start)"
   ]
  },
  {
   "cell_type": "code",
   "execution_count": 35,
   "metadata": {},
   "outputs": [
    {
     "name": "stderr",
     "output_type": "stream",
     "text": [
      "<ipython-input-25-86428cb10ab8>:29: UserWarning: This overload of add_ is deprecated:\n",
      "\tadd_(Number alpha, Tensor other)\n",
      "Consider using one of the following signatures instead:\n",
      "\tadd_(Tensor other, *, Number alpha) (Triggered internally at  C:\\actions-runner\\_work\\pytorch\\pytorch\\builder\\windows\\pytorch\\torch\\csrc\\utils\\python_arg_parser.cpp:1055.)\n",
      "  p.data.add_(-learning_rate, p.grad.data)\n"
     ]
    },
    {
     "name": "stdout",
     "output_type": "stream",
     "text": [
      "100 10% (0m 0s) 2.9666 Truong / Irish ✗ (Vietnamese)\n",
      "200 20% (0m 1s) 2.7796 Crespo / German ✗ (Portuguese)\n",
      "300 30% (0m 2s) 2.8704 Than / German ✗ (Vietnamese)\n",
      "400 40% (0m 2s) 2.8022 Taflambas / German ✗ (Greek)\n",
      "500 50% (0m 3s) 2.9455 Lihosherstov / German ✗ (Russian)\n",
      "600 60% (0m 3s) 2.8511 Nazari / Scottish ✗ (Arabic)\n",
      "700 70% (0m 4s) 2.9911 Tsvelikhovsky / Arabic ✗ (Russian)\n",
      "800 80% (0m 4s) 2.8316 Jong / Irish ✗ (Korean)\n",
      "900 90% (0m 5s) 2.9342 Durante / Italian ✗ (Spanish)\n",
      "1000 100% (0m 6s) 2.7419 Najjar / Italian ✗ (Arabic)\n",
      "100 10% (0m 0s) 2.8535 Costa / Arabic ✗ (Portuguese)\n",
      "200 20% (0m 1s) 2.8704 Alshtut / German ✗ (Russian)\n",
      "300 30% (0m 2s) 2.8513 Tugarinov / German ✗ (Russian)\n",
      "400 40% (0m 3s) 2.9310 Orton / German ✗ (English)\n",
      "500 50% (0m 4s) 2.8908 Maessen / German ✗ (Dutch)\n",
      "600 60% (0m 5s) 2.8563 Altamura / German ✗ (Italian)\n",
      "700 70% (0m 6s) 2.9193 Wizner / German ✗ (Czech)\n",
      "800 80% (0m 7s) 2.8620 Janda / German ✗ (Polish)\n",
      "900 90% (0m 8s) 2.8509 Kajiyama / German ✗ (Japanese)\n",
      "1000 100% (0m 9s) 2.9557 Daniau / German ✗ (French)\n",
      "100 10% (0m 0s) 2.8503 Locatelli / Irish ✗ (Italian)\n",
      "200 20% (0m 1s) 2.8726 Bassani / Korean ✗ (Italian)\n",
      "300 30% (0m 2s) 2.9401 Huynh / Korean ✗ (Vietnamese)\n",
      "400 40% (0m 3s) 2.9250 Jachnik / Korean ✗ (Russian)\n",
      "500 50% (0m 4s) 2.8865 Tawaraya / Polish ✗ (Japanese)\n",
      "600 60% (0m 5s) 2.9290 Felix / Korean ✗ (French)\n",
      "700 70% (0m 5s) 2.7681 Sokolofsky / Polish ✓\n",
      "800 80% (0m 6s) 2.8816 Blanxart / Polish ✗ (Spanish)\n",
      "900 90% (0m 7s) 2.9695 Sutherland / Irish ✗ (Scottish)\n",
      "1000 100% (0m 8s) 2.9877 Jirik / Korean ✗ (Czech)\n"
     ]
    },
    {
     "data": {
      "text/plain": [
       "<BarContainer object of 3 artists>"
      ]
     },
     "execution_count": 35,
     "metadata": {},
     "output_type": "execute_result"
    },
    {
     "data": {
      "image/png": "[encoded data removed]",
      "text/plain": [
       "<Figure size 432x288 with 1 Axes>"
      ]
     },
     "metadata": {
      "needs_background": "light"
     },
     "output_type": "display_data"
    },
    {
     "data": {
      "image/png": "[encoded data removed]",
      "text/plain": [
       "<Figure size 432x288 with 1 Axes>"
      ]
     },
     "metadata": {
      "needs_background": "light"
     },
     "output_type": "display_data"
    }
   ],
   "source": [
    "# Call the train function to train the RNN, LSTM, and GRU models respectively\n",
    "# and return the full loss of each, and the training time for mapping\n",
    "all_losses1, period1 = train(trainRNN)\n",
    "all_losses2, period2 = train(trainLSTM)\n",
    "all_losses3, period3 = train(trainGRU)\n",
    "\n",
    "# Plot loss contrast curve, training time comparison bar graph\n",
    "# Create canvas 0\n",
    "plt.figure(0)\n",
    "# Plotting loss comparison curves\n",
    "plt.plot(all_losses1, label=\"RNN\")\n",
    "plt.plot(all_losses2, color=\"red\", label=\"LSTM\")\n",
    "plt.plot(all_losses3, color=\"orange\", label=\"GRU\") \n",
    "plt.legend(loc='upper left') \n",
    "\n",
    "# Create canvas 1\n",
    "plt.figure(1)\n",
    "x_data=[\"RNN\", \"LSTM\", \"GRU\"] \n",
    "y_data = [period1, period2, period3]\n",
    "# Plotting training time comparison histogram\n",
    "plt.bar(range(len(x_data)), y_data, tick_label=x_data)"
   ]
  },
  {
   "cell_type": "code",
   "execution_count": 36,
   "metadata": {},
   "outputs": [],
   "source": [
    "def evaluateRNN(line_tensor):\n",
    "    \"\"\"evaluation function, same logic as the training function, with line_tensor as the tensor representation of the name\"\"\"\n",
    "    # Initialize the hidden tensor\n",
    "    hidden = rnn.initHidden()\n",
    "    # Pass each character of the evaluation data line_tensor into rnn one by one\n",
    "    for i in range(line_tensor.size()[0]):\n",
    "        output, hidden = rnn(line_tensor[i], hidden)\n",
    "    # Get the output\n",
    "    return output.squeeze(0)"
   ]
  },
  {
   "cell_type": "code",
   "execution_count": 37,
   "metadata": {},
   "outputs": [],
   "source": [
    "def evaluateLSTM(line_tensor):\n",
    "    # Initialize the hidden layer tensor and cell state tensor\n",
    "    hidden, c = lstm.initHiddenAndC()\n",
    "    # Pass each character of the evaluation data line_tensor into lstm one by one\n",
    "    for i in range(line_tensor.size()[0]):\n",
    "        output, hidden, c = lstm(line_tensor[i], hidden, c)\n",
    "    return output.squeeze(0)"
   ]
  },
  {
   "cell_type": "code",
   "execution_count": 38,
   "metadata": {},
   "outputs": [],
   "source": [
    "def evaluateGRU(line_tensor):\n",
    "    hidden = gru.initHidden()\n",
    "    # Pass each character of the evaluation data line_tensor into gru one by one\n",
    "    for i in range(line_tensor.size()[0]):\n",
    "        output, hidden = gru(line_tensor[i], hidden)\n",
    "    return output.squeeze(0)"
   ]
  },
  {
   "cell_type": "code",
   "execution_count": 39,
   "metadata": {},
   "outputs": [],
   "source": [
    "line = \"Zhi\"\n",
    "line_tensor = lineToTensor(line)"
   ]
  },
  {
   "cell_type": "code",
   "execution_count": 40,
   "metadata": {},
   "outputs": [
    {
     "name": "stdout",
     "output_type": "stream",
     "text": [
      "rnn_output: tensor([[-2.8207, -2.9827, -2.8962, -2.8957, -3.1012, -2.9269, -2.9010, -2.9643,\n",
      "         -2.7535, -2.6907, -2.7238, -2.8864, -2.9224, -3.0240, -2.9186, -2.8265,\n",
      "         -2.9495, -2.9334]], grad_fn=<SqueezeBackward1>)\n",
      "gru_output: tensor([[-2.8582, -2.9065, -2.9355, -2.9319, -2.9120, -2.9503, -2.8079, -2.9250,\n",
      "         -2.8823, -2.8345, -2.8483, -2.8805, -2.8601, -2.8910, -2.8253, -2.9615,\n",
      "         -2.8886, -2.9453]], grad_fn=<SqueezeBackward1>)\n",
      "gru_output: tensor([[-2.9248, -2.8188, -2.9786, -2.9056, -2.9004, -2.9521, -2.9383, -2.8501,\n",
      "         -2.7652, -2.8204, -2.9355, -2.7933, -2.8232, -2.8768, -2.9232, -2.9839,\n",
      "         -2.9029, -2.9716]], grad_fn=<SqueezeBackward1>)\n"
     ]
    }
   ],
   "source": [
    "rnn_output = evaluateRNN(line_tensor)\n",
    "lstm_output = evaluateLSTM(line_tensor)\n",
    "gru_output = evaluateGRU(line_tensor)\n",
    "print(\"rnn_output:\", rnn_output)\n",
    "print(\"gru_output:\", lstm_output)\n",
    "print(\"gru_output:\", gru_output)"
   ]
  },
  {
   "cell_type": "code",
   "execution_count": 41,
   "metadata": {},
   "outputs": [],
   "source": [
    "def predict(input_line, evaluate, n_predictions=5):\n",
    "    \"\"\"The prediction function, input_line represents the name of the input, n_predictions represents the most likely top\"\"\"\n",
    "    # print the real name\n",
    "    print('\\n> %s' % input_line)\n",
    "\n",
    "    # The relevant tensor for the following operations is not gradient solved\n",
    "    with torch.no_grad():\n",
    "        # Convert the input name to a tensor representation, and use the evaluate function to get the predicted output\n",
    "        output = evaluate(lineToTensor(input_line))\n",
    "\n",
    "        # Take the top 5 largest values and their indexes from the predicted output\n",
    "        topv, topi = output.topk(n_predictions, 1, True)\n",
    "        # Create a list of results\n",
    "        predictions = []\n",
    "        # traverse n_predictions\n",
    "        for i in range(n_predictions):\n",
    "            # Output values from topv\n",
    "            value = topv[0][i].item()\n",
    "            # Fetch the index and find the corresponding category\n",
    "            category_index = topi[0][i].item()\n",
    "            # Print the value of ouput, and the corresponding category\n",
    "            print('(%.2f) %s' % (value, all_categories[category_index]))\n",
    "            # Load the results into predictions\n",
    "            predictions.append([value, all_categories[category_index]])"
   ]
  },
  {
   "cell_type": "code",
   "execution_count": 42,
   "metadata": {},
   "outputs": [
    {
     "name": "stdout",
     "output_type": "stream",
     "text": [
      "------------------\n",
      "\n",
      "> Adam\n",
      "(-2.72) Arabic\n",
      "(-2.72) Irish\n",
      "(-2.74) Italian\n",
      "(-2.75) Japanese\n",
      "(-2.84) German\n",
      "\n",
      "> Baocheng\n",
      "(-2.61) Irish\n",
      "(-2.74) Italian\n",
      "(-2.75) Scottish\n",
      "(-2.77) Arabic\n",
      "(-2.80) Japanese\n",
      "\n",
      "> Zeyu\n",
      "(-2.68) Japanese\n",
      "(-2.73) Italian\n",
      "(-2.73) Irish\n",
      "(-2.82) German\n",
      "(-2.82) Arabic\n",
      "------------------\n",
      "\n",
      "> Adam\n",
      "(-2.79) German\n",
      "(-2.82) Russian\n",
      "(-2.83) Italian\n",
      "(-2.85) Japanese\n",
      "(-2.86) Arabic\n",
      "\n",
      "> Baocheng\n",
      "(-2.79) German\n",
      "(-2.82) Russian\n",
      "(-2.84) Italian\n",
      "(-2.86) Arabic\n",
      "(-2.86) Polish\n",
      "\n",
      "> Zeyu\n",
      "(-2.79) German\n",
      "(-2.82) Russian\n",
      "(-2.83) Italian\n",
      "(-2.86) Japanese\n",
      "(-2.86) Portuguese\n",
      "------------------\n",
      "\n",
      "> Adam\n",
      "(-2.76) Irish\n",
      "(-2.80) Korean\n",
      "(-2.81) Italian\n",
      "(-2.82) Polish\n",
      "(-2.82) Chinese\n",
      "\n",
      "> Baocheng\n",
      "(-2.78) Korean\n",
      "(-2.78) Chinese\n",
      "(-2.78) Irish\n",
      "(-2.84) Portuguese\n",
      "(-2.84) Italian\n",
      "\n",
      "> Zeyu\n",
      "(-2.76) Irish\n",
      "(-2.79) Korean\n",
      "(-2.81) Greek\n",
      "(-2.81) Chinese\n",
      "(-2.82) Polish\n"
     ]
    }
   ],
   "source": [
    "for evaluate_fn in [evaluateRNN, evaluateLSTM, evaluateGRU]: \n",
    "    print(\"-\"*18)\n",
    "    predict('Adam', evaluate_fn)\n",
    "    predict('Baocheng', evaluate_fn)\n",
    "    predict('Zeyu', evaluate_fn)"
   ]
  },
  {
   "cell_type": "code",
   "execution_count": null,
   "metadata": {},
   "outputs": [],
   "source": []
  }
 ],
 "metadata": {
  "interpreter": {
   "hash": "08996ef1244fba4826ebd751b03fb1bf19448f132aa370af9306942f579a25ac"
  },
  "kernelspec": {
   "display_name": "Python 3.9.0 64-bit",
   "language": "python",
   "name": "python3"
  },
  "language_info": {
   "codemirror_mode": {
    "name": "ipython",
    "version": 3
   },
   "file_extension": ".py",
   "mimetype": "text/x-python",
   "name": "python",
   "nbconvert_exporter": "python",
   "pygments_lexer": "ipython3",
   "version": "3.9.0"
  },
  "orig_nbformat": 4
 },
 "nbformat": 4,
 "nbformat_minor": 2
}
